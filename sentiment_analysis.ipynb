{
 "cells": [
  {
   "cell_type": "code",
   "execution_count": 2,
   "metadata": {},
   "outputs": [],
   "source": [
    "# necessary utility libraries\n",
    "import numpy as np\n",
    "import pandas as pd\n",
    "from tqdm import tqdm\n",
    "import matplotlib.pyplot as plt\n",
    "\n",
    "# nltk for text preprocessing\n",
    "from nltk.stem import WordNetLemmatizer\n",
    "\n",
    "# sklearn for preprocessing data and for evaluating the metrics\n",
    "from sklearn.utils import class_weight\n",
    "from sklearn.preprocessing import LabelEncoder\n",
    "from sklearn.model_selection import RandomizedSearchCV\n",
    "from sklearn.metrics import accuracy_score, f1_score, confusion_matrix, log_loss, plot_confusion_matrix\n",
    "\n",
    "# nlpaug for class imbalance handling\n",
    "import nlpaug.augmenter.word as naw\n",
    "\n",
    "# keras for neural network\n",
    "from tensorflow.keras.utils import to_categorical\n",
    "from tensorflow.keras.preprocessing.text import Tokenizer\n",
    "from tensorflow.keras.preprocessing.sequence import pad_sequences\n",
    "from tensorflow.keras.models import Sequential, Model, load_model\n",
    "from tensorflow.keras.wrappers.scikit_learn import KerasClassifier\n",
    "from tensorflow.keras.callbacks import ModelCheckpoint, EarlyStopping\n",
    "from tensorflow.keras.layers import Embedding, LSTM, Dense, SpatialDropout1D, Bidirectional, Conv1D, GlobalMaxPool1D"
   ]
  },
  {
   "cell_type": "markdown",
   "metadata": {},
   "source": [
    "#### Importing the train and test files"
   ]
  },
  {
   "cell_type": "code",
   "execution_count": 3,
   "metadata": {},
   "outputs": [
    {
     "data": {
      "text/html": [
       "<div>\n",
       "<style scoped>\n",
       "    .dataframe tbody tr th:only-of-type {\n",
       "        vertical-align: middle;\n",
       "    }\n",
       "\n",
       "    .dataframe tbody tr th {\n",
       "        vertical-align: top;\n",
       "    }\n",
       "\n",
       "    .dataframe thead th {\n",
       "        text-align: right;\n",
       "    }\n",
       "</style>\n",
       "<table border=\"1\" class=\"dataframe\">\n",
       "  <thead>\n",
       "    <tr style=\"text-align: right;\">\n",
       "      <th></th>\n",
       "      <th>Sentence</th>\n",
       "      <th>Polarity</th>\n",
       "    </tr>\n",
       "  </thead>\n",
       "  <tbody>\n",
       "    <tr>\n",
       "      <th>0</th>\n",
       "      <td>Wow... Loved this place.</td>\n",
       "      <td>1</td>\n",
       "    </tr>\n",
       "    <tr>\n",
       "      <th>1</th>\n",
       "      <td>Crust is not good.</td>\n",
       "      <td>0</td>\n",
       "    </tr>\n",
       "    <tr>\n",
       "      <th>2</th>\n",
       "      <td>Not tasty and the texture was just nasty.</td>\n",
       "      <td>0</td>\n",
       "    </tr>\n",
       "    <tr>\n",
       "      <th>3</th>\n",
       "      <td>Stopped by during the late May bank holiday of...</td>\n",
       "      <td>1</td>\n",
       "    </tr>\n",
       "    <tr>\n",
       "      <th>4</th>\n",
       "      <td>The selection on the menu was great and so wer...</td>\n",
       "      <td>1</td>\n",
       "    </tr>\n",
       "  </tbody>\n",
       "</table>\n",
       "</div>"
      ],
      "text/plain": [
       "                                            Sentence  Polarity\n",
       "0                           Wow... Loved this place.         1\n",
       "1                                 Crust is not good.         0\n",
       "2          Not tasty and the texture was just nasty.         0\n",
       "3  Stopped by during the late May bank holiday of...         1\n",
       "4  The selection on the menu was great and so wer...         1"
      ]
     },
     "execution_count": 3,
     "metadata": {},
     "output_type": "execute_result"
    }
   ],
   "source": [
    "df_train = pd.read_csv('./data/sentiment_train.csv')\n",
    "df_test = pd.read_csv('./data/sentiment_test.csv')\n",
    "\n",
    "df_train.head()"
   ]
  },
  {
   "cell_type": "markdown",
   "metadata": {},
   "source": [
    "#### Observing and handling the class imbalance problem"
   ]
  },
  {
   "cell_type": "code",
   "execution_count": 4,
   "metadata": {},
   "outputs": [
    {
     "data": {
      "image/png": "[encoded data removed]",
      "text/plain": [
       "<Figure size 500x200 with 1 Axes>"
      ]
     },
     "metadata": {},
     "output_type": "display_data"
    },
    {
     "name": "stdout",
     "output_type": "stream",
     "text": [
      "0    1213\n",
      "1    1187\n",
      "Name: Polarity, dtype: int64\n"
     ]
    }
   ],
   "source": [
    "# Plot sentiment distribution\n",
    "df_train['Polarity'].value_counts().plot(kind = 'barh', figsize = (5,2));\n",
    "plt.title('Distribution of polarity in train dataset', fontsize = 10, weight = 'bold')\n",
    "plt.xlabel('Frequency', fontsize = 10)\n",
    "plt.xticks(fontsize = 8)\n",
    "plt.yticks(fontsize = 8)\n",
    "plt.show()\n",
    "\n",
    "print(df_train['Polarity'].value_counts())"
   ]
  },
  {
   "cell_type": "markdown",
   "metadata": {},
   "source": [
    "We can observe here that the training data is not hugely imbalanced and there is only a slight difference between the number of training instances we have for negative and positive polarity sentences. We can easily mitigate this by using a text augmentation method called backtranslation.\n",
    "\n",
    "The back-translation process works in the following way:\n",
    "* Take some sentence and translate to another language\n",
    "* Translate the output sentence back to original language\n",
    "* Check if the new sentence is different from the original sentence. If it is, then we use this new sentence as an augmented version of the original text."
   ]
  },
  {
   "cell_type": "code",
   "execution_count": 5,
   "metadata": {},
   "outputs": [],
   "source": [
    "back_translation_aug = naw.BackTranslationAug(\n",
    "    from_model_name='facebook/wmt19-en-de', \n",
    "    to_model_name='facebook/wmt19-de-en'\n",
    ")\n",
    "    \n",
    "def generate_augmented_text(text):\n",
    "    augmented_text = back_translation_aug.augment(text)\n",
    "    return augmented_text"
   ]
  },
  {
   "cell_type": "code",
   "execution_count": 6,
   "metadata": {},
   "outputs": [
    {
     "name": "stdout",
     "output_type": "stream",
     "text": [
      "Original Text:  I kept looking at the time and it had soon become 35 minutes, yet still no food.\n",
      "\n"
     ]
    },
    {
     "name": "stderr",
     "output_type": "stream",
     "text": [
      "/home/bikram/anaconda3/envs/alt/lib/python3.7/site-packages/torch/_tensor.py:575: UserWarning: floor_divide is deprecated, and will be removed in a future version of pytorch. It currently rounds toward 0 (like the 'trunc' function NOT 'floor'). This results in incorrect rounding for negative values.\n",
      "To keep the current behavior, use torch.div(a, b, rounding_mode='trunc'), or for actual floor division, use torch.div(a, b, rounding_mode='floor'). (Triggered internally at  /pytorch/aten/src/ATen/native/BinaryOps.cpp:467.)\n",
      "  return torch.floor_divide(self, other)\n"
     ]
    },
    {
     "name": "stdout",
     "output_type": "stream",
     "text": [
      "Augmented Text:  I looked at the time again and again and soon it was 35 minutes, but still no food.\n"
     ]
    }
   ],
   "source": [
    "# Example of text augmentation:\n",
    "\n",
    "text = df_train['Sentence'][979]\n",
    "print(\"Original Text: \", text)\n",
    "print()\n",
    "print(\"Augmented Text: \", generate_augmented_text(text))"
   ]
  },
  {
   "cell_type": "code",
   "execution_count": 7,
   "metadata": {},
   "outputs": [
    {
     "name": "stderr",
     "output_type": "stream",
     "text": [
      "  7%|▋         | 28/378 [00:34<07:14,  1.24s/it]\n"
     ]
    }
   ],
   "source": [
    "long_pos_texts = df_train[(df_train['Polarity'] == 1) & \n",
    "                          (df_train['Sentence'].str.len() >= 70)]['Sentence'].values\n",
    "\n",
    "count = 0\n",
    "for text in tqdm(long_pos_texts):\n",
    "    new_text = generate_augmented_text(text)\n",
    "    if new_text != text:\n",
    "        count += 1\n",
    "        df_train = df_train.append({\"Sentence\": new_text, \"Polarity\": 1}, ignore_index=True)\n",
    "        if count == 26:\n",
    "            break"
   ]
  },
  {
   "cell_type": "code",
   "execution_count": 8,
   "metadata": {},
   "outputs": [
    {
     "data": {
      "image/png": "[encoded data removed]",
      "text/plain": [
       "<Figure size 500x200 with 1 Axes>"
      ]
     },
     "metadata": {},
     "output_type": "display_data"
    },
    {
     "name": "stdout",
     "output_type": "stream",
     "text": [
      "1    1213\n",
      "0    1213\n",
      "Name: Polarity, dtype: int64\n"
     ]
    }
   ],
   "source": [
    "# Plot sentiment distribution\n",
    "df_train['Polarity'].value_counts().plot(kind = 'barh', figsize = (5,2));\n",
    "plt.title('Distribution of polarity in train dataset', fontsize = 10, weight = 'bold')\n",
    "plt.xlabel('Frequency', fontsize = 10)\n",
    "plt.xticks(fontsize = 8)\n",
    "plt.yticks(fontsize = 8)\n",
    "plt.show()\n",
    "\n",
    "print(df_train['Polarity'].value_counts())"
   ]
  },
  {
   "cell_type": "markdown",
   "metadata": {},
   "source": [
    "We can now see that the data is perfectly balanced now and we have equal number of both positive and negative polarity examples. We can proceed ahead now with preprocessing and training our model."
   ]
  },
  {
   "cell_type": "markdown",
   "metadata": {},
   "source": [
    "#### Preprocessing and vectorizing the data for training"
   ]
  },
  {
   "cell_type": "code",
   "execution_count": 9,
   "metadata": {},
   "outputs": [],
   "source": [
    "MAX_SEQ_LEN = 85 # Maximum length of sentence the model will handle\n",
    "DEFAULT_BATCH_SIZE = 128 # Size of number of instances in a batch the model will take while training"
   ]
  },
  {
   "cell_type": "markdown",
   "metadata": {},
   "source": [
    "It is important that we clean and preprocess the text a bit before we can use it for training purposes. So, for text cleaning purpose, we will perform the following steps:\n",
    "\n",
    "\n",
    "* Contraction check: check if there’s any contracted form, and replace it with its original form\n",
    "* Parsing: done with Spacy\n",
    "* Filtering punctuation, white space while keeping the text content intact\n",
    "* Lemmatized the words in the text. Lemmatization is basically the process of grouping together the different inflected forms of a word so they can be analyzed as a single item. (eg. going will be lemmatized to go)"
   ]
  },
  {
   "cell_type": "code",
   "execution_count": 10,
   "metadata": {},
   "outputs": [],
   "source": [
    "CONTRACTION_MAPPING = {\"ain't\": \"is not\", \"aren't\": \"are not\",\"can't\": \"cannot\", \"cant\": \"cannot\",\n",
    "                   \"can't've\": \"cannot have\", \"'cause\": \"because\", \"could've\": \"could have\", \n",
    "                   \"couldn't\": \"could not\", \"couldn't've\": \"could not have\",\"didn't\": \"did not\", \n",
    "                   \"doesn't\": \"does not\", \"don't\": \"do not\", \"hadn't\": \"had not\", \n",
    "                   \"hadn't've\": \"had not have\", \"hasn't\": \"has not\", \"haven't\": \"have not\", \n",
    "                   \"he'd\": \"he would\", \"he'd've\": \"he would have\", \"he'll\": \"he will\", \n",
    "                   \"he'll've\": \"he will have\", \"he's\": \"he is\", \"how'd\": \"how did\", \n",
    "                   \"how'd'y\": \"how do you\", \"how'll\": \"how will\", \"how's\": \"how is\", \n",
    "                   \"I'd\": \"I would\", \"I'd've\": \"I would have\", \"I'll\": \"I will\", \n",
    "                   \"I'll've\": \"I will have\",\"I'm\": \"I am\", \"I've\": \"I have\", \n",
    "                   \"i'd\": \"i would\", \"i'd've\": \"i would have\", \"i'll\": \"i will\", \n",
    "                   \"i'll've\": \"i will have\",\"i'm\": \"i am\", \"i've\": \"i have\", \n",
    "                   \"isn't\": \"is not\", \"it'd\": \"it would\", \"it'd've\": \"it would have\", \n",
    "                   \"it'll\": \"it will\", \"it'll've\": \"it will have\",\"it's\": \"it is\", \n",
    "                   \"let's\": \"let us\", \"ma'am\": \"madam\", \"mayn't\": \"may not\", \n",
    "                   \"might've\": \"might have\",\"mightn't\": \"might not\",\"mightn't've\": \"might not have\", \n",
    "                   \"must've\": \"must have\", \"mustn't\": \"must not\", \"mustn't've\": \"must not have\", \n",
    "                   \"needn't\": \"need not\", \"needn't've\": \"need not have\",\"o'clock\": \"of the clock\", \n",
    "                   \"oughtn't\": \"ought not\", \"oughtn't've\": \"ought not have\", \"shan't\": \"shall not\",\n",
    "                   \"sha'n't\": \"shall not\", \"shan't've\": \"shall not have\", \"she'd\": \"she would\", \n",
    "                   \"she'd've\": \"she would have\", \"she'll\": \"she will\", \"she'll've\": \"she will have\", \n",
    "                   \"she's\": \"she is\", \"should've\": \"should have\", \"shouldn't\": \"should not\", \n",
    "                   \"shouldn't've\": \"should not have\", \"so've\": \"so have\",\"so's\": \"so as\", \n",
    "                   \"this's\": \"this is\",\n",
    "                   \"that'd\": \"that would\", \"that'd've\": \"that would have\",\"that's\": \"that is\", \n",
    "                   \"there'd\": \"there would\", \"there'd've\": \"there would have\",\"there's\": \"there is\", \n",
    "                       \"here's\": \"here is\",\n",
    "                   \"they'd\": \"they would\", \"they'd've\": \"they would have\", \"they'll\": \"they will\", \n",
    "                   \"they'll've\": \"they will have\", \"they're\": \"they are\", \"they've\": \"they have\", \n",
    "                   \"to've\": \"to have\", \"wasn't\": \"was not\", \"we'd\": \"we would\", \n",
    "                   \"we'd've\": \"we would have\", \"we'll\": \"we will\", \"we'll've\": \"we will have\", \n",
    "                   \"we're\": \"we are\", \"we've\": \"we have\", \"weren't\": \"were not\", \n",
    "                   \"what'll\": \"what will\", \"what'll've\": \"what will have\", \"what're\": \"what are\", \n",
    "                   \"what's\": \"what is\", \"what've\": \"what have\", \"when's\": \"when is\", \n",
    "                   \"when've\": \"when have\", \"where'd\": \"where did\", \"where's\": \"where is\", \n",
    "                   \"where've\": \"where have\", \"who'll\": \"who will\", \"who'll've\": \"who will have\", \n",
    "                   \"who's\": \"who is\", \"who've\": \"who have\", \"why's\": \"why is\", \n",
    "                   \"why've\": \"why have\", \"will've\": \"will have\", \"won't\": \"will not\", \n",
    "                   \"won't've\": \"will not have\", \"would've\": \"would have\", \"wouldn't\": \"would not\", \n",
    "                   \"wouldn't've\": \"would not have\", \"y'all\": \"you all\", \"y'all'd\": \"you all would\",\n",
    "                   \"y'all'd've\": \"you all would have\",\"y'all're\": \"you all are\",\"y'all've\": \"you all have\",\n",
    "                   \"you'd\": \"you would\", \"you'd've\": \"you would have\", \"you'll\": \"you will\", \n",
    "                   \"you'll've\": \"you will have\", \"you're\": \"you are\", \"you've\": \"you have\" }"
   ]
  },
  {
   "cell_type": "code",
   "execution_count": 11,
   "metadata": {},
   "outputs": [],
   "source": [
    "lemmatizer = WordNetLemmatizer()\n",
    "\n",
    "def clean_text(text, mapping):\n",
    "    replace_white_space = [\"\\n\"]\n",
    "    for s in replace_white_space:\n",
    "        text = text.replace(s, \" \")\n",
    "    replace_punctuation = [\"’\", \"‘\", \"´\", \"`\", \"\\'\", r\"\\'\"]\n",
    "    for s in replace_punctuation:\n",
    "        text = text.replace(s, \"'\")\n",
    "    \n",
    "    mapped_string = []\n",
    "    for t in text.split(\" \"):\n",
    "        if t in mapping:\n",
    "            mapped_string.append(mapping[t])\n",
    "        elif t.lower() in mapping:\n",
    "            mapped_string.append(mapping[t.lower()])\n",
    "        else:\n",
    "            mapped_string.append(lemmatizer.lemmatize(t))\n",
    "    return ' '.join(mapped_string)\n",
    "\n",
    "X_train = [clean_text(text, CONTRACTION_MAPPING) for text in df_train['Sentence'].values]\n",
    "X_test = [clean_text(text, CONTRACTION_MAPPING) for text in df_test['Sentence'].values]"
   ]
  },
  {
   "cell_type": "markdown",
   "metadata": {},
   "source": [
    "Next we tokenize each of the preprocessed texts, which involves converting each sequence into an integer encoded represenation and normalizing the length of the sequences (by using padding). Please note very little pre-processing was done to the text. More specifically there's no stemming or POS tagging, common in NLP tasks. Additionally, text is left in original case (i.e not cast to lowercase). The data already is pretty clean to work with."
   ]
  },
  {
   "cell_type": "code",
   "execution_count": 12,
   "metadata": {},
   "outputs": [
    {
     "name": "stdout",
     "output_type": "stream",
     "text": [
      "Number of Tokens: 4493\n",
      "Max Token Index: 4493 \n",
      "\n",
      "Sample Text Before Processing: Though The Wind and the Lion is told largely through the eyes of the son, every member of the family can identify with one of the characters, whether it be Sean Connery's noble brigand, Candace Bergen's feisty heroine, John Huston's wily John Hay or Steve Kanaly's spiffy, radiant, ruthless can-do lieutenant, Roosevelt's \"Big Stick\".  \n",
      "Sample Text After Processing: [\"Though The Wind and the Lion is told largely through the eye of the son every member of the family can identify with one of the characters whether it be Sean Connery's noble brigand Candace Bergen's feisty heroine John Huston's wily John Hay or Steve Kanaly's spiffy radiant ruthless can do lieutenant Roosevelt's Big Stick\"] \n",
      "\n",
      "What the model will interpret: [0, 0, 0, 0, 0, 0, 0, 0, 0, 0, 0, 0, 0, 0, 0, 0, 0, 0, 0, 0, 0, 0, 0, 0, 0, 0, 0, 0, 0, 0, 4431, 11, 1195, 2, 1, 1196, 5, 523, 1270, 481, 1, 793, 10, 1, 766, 146, 4432, 10, 1, 277, 82, 4433, 15, 41, 10, 1, 736, 547, 7, 30, 4434, 4435, 4436, 4437, 4438, 4439, 4440, 4441, 910, 4442, 4443, 910, 4444, 58, 915, 4445, 4446, 4447, 4448, 82, 38, 4449, 4450, 709, 4451]\n"
     ]
    }
   ],
   "source": [
    "# tokenize the sentences\n",
    "tokenizer = Tokenizer(lower=False)\n",
    "tokenizer.fit_on_texts(X_train)\n",
    "X_train = tokenizer.texts_to_sequences(X_train)\n",
    "X_test = tokenizer.texts_to_sequences(X_test)\n",
    "\n",
    "# pad the sequences\n",
    "X_train = pad_sequences(X_train, maxlen=MAX_SEQ_LEN)\n",
    "X_test = pad_sequences(X_test, maxlen=MAX_SEQ_LEN)\n",
    "\n",
    "print('Number of Tokens:', len(tokenizer.word_index))\n",
    "print(\"Max Token Index:\", X_train.max(), \"\\n\")\n",
    "\n",
    "print('Sample Text Before Processing:', df_train['Sentence'].values[2390])\n",
    "print('Sample Text After Processing:', tokenizer.sequences_to_texts([X_train[2390]]), '\\n')\n",
    "\n",
    "print('What the model will interpret:', X_train[2390].tolist())"
   ]
  },
  {
   "cell_type": "markdown",
   "metadata": {},
   "source": [
    "We will prepare the output data as well. In this case the sentiment is classified as Negative or Positive. To make it suitable for a deep learning model each sentiment will be converted to a vector of length 2, where each position corresponds to a sentiment class: Negative = 0 and Positive = 1."
   ]
  },
  {
   "cell_type": "code",
   "execution_count": 13,
   "metadata": {},
   "outputs": [],
   "source": [
    "# One Hot Encode Y values:\n",
    "encoder = LabelEncoder()\n",
    "\n",
    "y_train = encoder.fit_transform(df_train['Polarity'].values)\n",
    "y_train = to_categorical(y_train) \n",
    "\n",
    "y_test = encoder.fit_transform(df_test['Polarity'].values)\n",
    "y_test = to_categorical(y_test) "
   ]
  },
  {
   "cell_type": "markdown",
   "metadata": {},
   "source": [
    "#### Loading glove embeddings"
   ]
  },
  {
   "cell_type": "markdown",
   "metadata": {},
   "source": [
    "We can easily access pre-trained word vectors for training purposes in NLP that are trained against billions of documents. These are generally recommended for NLP tasks as they provide a substantial increase in performance over embeddings trained on the fly.\n",
    "\n",
    "This is a form of Transfer Learning where existing model weights are re-purposed for a new task (this much more prevalent amongst Image Classification tasks).\n",
    "We'll use the GloVe Embeddings, which are trained on several different text sources."
   ]
  },
  {
   "cell_type": "code",
   "execution_count": 15,
   "metadata": {},
   "outputs": [],
   "source": [
    "def get_coefs(word,*arr): \n",
    "    return word, np.asarray(arr, dtype='float32')\n",
    "\n",
    "def get_embdedings_matrix(embeddings_index, word_index, nb_words = None):\n",
    "    all_embs = np.stack(embeddings_index.values())\n",
    "    print('Shape of Full Embeddding Matrix', all_embs.shape)\n",
    "    embed_dims = all_embs.shape[1]\n",
    "    emb_mean,emb_std = all_embs.mean(), all_embs.std()\n",
    "\n",
    "    #best to free up memory, given the size, which is usually ~3-4GB in memory\n",
    "    del all_embs\n",
    "    if nb_words is None:\n",
    "        nb_words = len(word_index)\n",
    "    else:\n",
    "        nb_words = min(nb_words, len(word_index))\n",
    "    \n",
    "    embedding_matrix = np.random.normal(emb_mean, emb_std, (nb_words+1, embed_dims))\n",
    "    found_vectors = 0\n",
    "    words_not_found = []\n",
    "    for word, i in tqdm(word_index.items()):\n",
    "        if i >= nb_words: \n",
    "            continue\n",
    "        embedding_vector = None\n",
    "        if word in embeddings_index:\n",
    "            embedding_vector = embeddings_index.get(word)\n",
    "        elif word.lower() in embeddings_index:\n",
    "            embedding_vector = embeddings_index.get(word.lower())\n",
    "        elif '#'+word.lower() in embeddings_index:\n",
    "            embedding_vector = embeddings_index.get('#'+word.lower())\n",
    "            \n",
    "        if embedding_vector is not None: \n",
    "            found_vectors += 1\n",
    "            embedding_matrix[i] = embedding_vector\n",
    "        else:\n",
    "            words_not_found.append((word, i))\n",
    "\n",
    "    print(\"% of Vectors found in Corpus\", found_vectors / nb_words)\n",
    "    return embedding_matrix, words_not_found"
   ]
  },
  {
   "cell_type": "code",
   "execution_count": 16,
   "metadata": {},
   "outputs": [
    {
     "name": "stdout",
     "output_type": "stream",
     "text": [
      "Loading Glove Model...\n"
     ]
    },
    {
     "name": "stderr",
     "output_type": "stream",
     "text": [
      "400000it [00:25, 15653.37it/s]\n",
      "/home/bikram/anaconda3/envs/alt/lib/python3.7/site-packages/ipykernel_launcher.py:9: FutureWarning: arrays to stack must be passed as a \"sequence\" type such as list or tuple. Support for non-sequence iterables such as generators is deprecated as of NumPy 1.16 and will raise an error in the future.\n",
      "  if __name__ == '__main__':\n"
     ]
    },
    {
     "name": "stdout",
     "output_type": "stream",
     "text": [
      "Built Embedding Index: 400000\n",
      "Shape of Full Embeddding Matrix (400000, 300)\n"
     ]
    },
    {
     "name": "stderr",
     "output_type": "stream",
     "text": [
      "100%|██████████| 4493/4493 [00:00<00:00, 425981.78it/s]"
     ]
    },
    {
     "name": "stdout",
     "output_type": "stream",
     "text": [
      "% of Vectors found in Corpus 0.9561540173603383\n"
     ]
    },
    {
     "name": "stderr",
     "output_type": "stream",
     "text": [
      "\n"
     ]
    }
   ],
   "source": [
    "def load_emb_matrix(word_index):\n",
    "    embed_file_path = './glove.6B.300d.txt'\n",
    "    embeddings_index = dict(get_coefs(*o.split(\" \")) for o in tqdm(open(embed_file_path)))\n",
    "    print(\"Built Embedding Index:\", len(embeddings_index))\n",
    "    return get_embdedings_matrix(embeddings_index, word_index)\n",
    "\n",
    "print('Loading Glove Model...')\n",
    "\n",
    "emb_matrix, words_not_found = load_emb_matrix(tokenizer.word_index)"
   ]
  },
  {
   "cell_type": "markdown",
   "metadata": {},
   "source": [
    "#### Building the keras model and performing parameter tuning with cross validation"
   ]
  },
  {
   "cell_type": "markdown",
   "metadata": {},
   "source": [
    "The neural nets we'll be using is based on Recurrent Neural Network(RNN) Architecture.\n",
    "\n",
    "An RNN is a specific type of Deep Learning Architecture that's specially adapted to handle time dependent information such as human language (e.g. Text, Audio), signal outputs from an IoT Device, or any other Time Series based data(stock prices, though not recommeneded). An LSTM is a specific type of RNN and is used in a lot of commercial applications(Siri), also consider GRU's, which can occasionally outperform LSTMs on certain tasks and ther are more advanced models as well (like Attention, BERT, 1D Convolutions, Capsules, etc)\n",
    "\n",
    "In our neural network model we use the following layers:\n",
    "\n",
    "* Embedding - Matrix of Word Vectors, where each vector store the \"meaning\" of the word. These can be trained on the fly or you can leverage existing pre-trained vector.\n",
    "\n",
    "* LSTM - Recurrent Neural Network that allows for the \"building\" of state over time\n",
    "\n",
    "* Dense - Feed Forward Neural Net used to interpret the LSTM Output\n",
    "\n",
    "* Bi-Directional LSTM - As the name suggest this Layer \"reads\" text both forwards and backwards and allows the model to get information from past and future states simultaneously. It also usually provides a nice boost in performance over the single pass LSTM.\n",
    "\n",
    "* Dropout - It is added to reduce overfitting, as the number of paramters in the model increases. A Dropout Layer, drops data from the input, but only during training, which encourages the model to be more \"robust\" and not become overly dependent on specific signals from the training data to make predictions. Since we have a relatively small data-set compared to our model size, drop-out is critical to ensure the model doesnt just quickly overfit the training set."
   ]
  },
  {
   "cell_type": "code",
   "execution_count": 17,
   "metadata": {},
   "outputs": [],
   "source": [
    "def build_model(embed_matrix=emb_matrix, optimizer='adam', spatial_dropout=0.3, lstm_dropout=0.25, lstm_units=128):\n",
    "    model = Sequential()\n",
    "    model.add(Embedding(input_dim = embed_matrix.shape[0], output_dim=embed_matrix.shape[1], \n",
    "                        input_length=MAX_SEQ_LEN, weights=[embed_matrix], trainable=False))\n",
    "    model.add(SpatialDropout1D(spatial_dropout))\n",
    "    model.add(Bidirectional(LSTM(lstm_units, dropout=lstm_dropout, recurrent_dropout=lstm_dropout, return_sequences=True)))\n",
    "    model.add(Conv1D(64, 4))\n",
    "    model.add(GlobalMaxPool1D())\n",
    "    model.add(Dense(64, activation='relu'))\n",
    "    model.add(Dense(2, activation='softmax'))\n",
    "    print(model.summary())\n",
    "    model.compile(loss='categorical_crossentropy', optimizer=optimizer, metrics=['accuracy'])\n",
    "    return model"
   ]
  },
  {
   "cell_type": "markdown",
   "metadata": {},
   "source": [
    "A Deep Neural Network that can generalize well to new data is a very challenging problem. Furthermore, Deep learning models are full of hyper-parameters and finding the optimal ones can be a tedious process. To solve this, we can use parameter tuning methods like gridsearch or randomized search. Sklearn already provides these implementations. We will be going ahead with Randomized Search as it takes less time as compared to Grid Search with minimal affect on the results. By defining the search parameters, we provide the hyperparameter tuning tool to choose the best possible combinations among them to build a highly generalized deep learning model that can work on any unseen data in future. Additionally, randomized search can perform cross validation splits in order to determine the best parameters. This is a great method when we have limited amount of data to train our model on."
   ]
  },
  {
   "cell_type": "code",
   "execution_count": 18,
   "metadata": {},
   "outputs": [],
   "source": [
    "keras_estimator = KerasClassifier(build_fn=build_model, verbose=1)\n",
    "\n",
    "# define the randomized search parameters\n",
    "param_grid = {\n",
    "    'epochs': [25, 30, 35],\n",
    "    'optimizer':['RMSprop', 'adam'],\n",
    "    'spatial_dropout': [0.2, 0.3, 0.4],\n",
    "    'lstm_dropout': [0.20, 0.25, 0.30],\n",
    "    'lstm_units': [64, 128, 256],\n",
    "    'batch_size':[32, 64, 128],\n",
    "}"
   ]
  },
  {
   "cell_type": "code",
   "execution_count": 19,
   "metadata": {},
   "outputs": [
    {
     "name": "stdout",
     "output_type": "stream",
     "text": [
      "Fitting 5 folds for each of 10 candidates, totalling 50 fits\n",
      "Best: 0.871615 using {'spatial_dropout': 0.4, 'optimizer': 'adam', 'lstm_units': 128, 'lstm_dropout': 0.3, 'epochs': 35, 'batch_size': 64}\n",
      "0.865742 (0.038547) with: {'spatial_dropout': 0.2, 'optimizer': 'RMSprop', 'lstm_units': 128, 'lstm_dropout': 0.2, 'epochs': 30, 'batch_size': 64}\n",
      "0.871182 (0.021168) with: {'spatial_dropout': 0.3, 'optimizer': 'RMSprop', 'lstm_units': 256, 'lstm_dropout': 0.3, 'epochs': 35, 'batch_size': 128}\n",
      "0.866133 (0.033684) with: {'spatial_dropout': 0.2, 'optimizer': 'adam', 'lstm_units': 128, 'lstm_dropout': 0.2, 'epochs': 25, 'batch_size': 32}\n",
      "0.853086 (0.037047) with: {'spatial_dropout': 0.3, 'optimizer': 'adam', 'lstm_units': 128, 'lstm_dropout': 0.2, 'epochs': 25, 'batch_size': 128}\n",
      "0.852464 (0.050919) with: {'spatial_dropout': 0.2, 'optimizer': 'RMSprop', 'lstm_units': 128, 'lstm_dropout': 0.25, 'epochs': 25, 'batch_size': 64}\n",
      "0.858274 (0.033303) with: {'spatial_dropout': 0.4, 'optimizer': 'adam', 'lstm_units': 64, 'lstm_dropout': 0.3, 'epochs': 25, 'batch_size': 64}\n",
      "0.864024 (0.027941) with: {'spatial_dropout': 0.4, 'optimizer': 'adam', 'lstm_units': 64, 'lstm_dropout': 0.2, 'epochs': 25, 'batch_size': 128}\n",
      "0.871615 (0.037675) with: {'spatial_dropout': 0.4, 'optimizer': 'adam', 'lstm_units': 128, 'lstm_dropout': 0.3, 'epochs': 35, 'batch_size': 64}\n",
      "0.863668 (0.033221) with: {'spatial_dropout': 0.2, 'optimizer': 'RMSprop', 'lstm_units': 128, 'lstm_dropout': 0.25, 'epochs': 35, 'batch_size': 64}\n",
      "0.866015 (0.030406) with: {'spatial_dropout': 0.2, 'optimizer': 'adam', 'lstm_units': 128, 'lstm_dropout': 0.2, 'epochs': 30, 'batch_size': 32}\n"
     ]
    }
   ],
   "source": [
    "kfold_splits = 5\n",
    "\n",
    "random_search = RandomizedSearchCV(estimator=keras_estimator,  \n",
    "                          n_jobs=-1, \n",
    "                          verbose=2,\n",
    "                          refit=False,\n",
    "                          scoring='f1',\n",
    "                          cv=kfold_splits,\n",
    "                          error_score='raise',\n",
    "                          return_train_score=True,\n",
    "                          param_distributions=param_grid)\n",
    "\n",
    "tuning_results = random_search.fit(X_train, np.argmax(y_train, axis=1), ) \n",
    "\n",
    "\n",
    "# summarize results\n",
    "print(\"Best: %f using %s\" % (tuning_results.best_score_, tuning_results.best_params_))\n",
    "means = tuning_results.cv_results_['mean_test_score']\n",
    "stds = tuning_results.cv_results_['std_test_score']\n",
    "params = tuning_results.cv_results_['params']\n",
    "for mean, stdev, param in zip(means, stds, params):\n",
    "    print(\"%f (%f) with: %r\" % (mean, stdev, param))"
   ]
  },
  {
   "cell_type": "code",
   "execution_count": 20,
   "metadata": {},
   "outputs": [
    {
     "data": {
      "text/plain": [
       "{'spatial_dropout': 0.4,\n",
       " 'optimizer': 'adam',\n",
       " 'lstm_units': 128,\n",
       " 'lstm_dropout': 0.3,\n",
       " 'epochs': 35,\n",
       " 'batch_size': 64}"
      ]
     },
     "execution_count": 20,
     "metadata": {},
     "output_type": "execute_result"
    }
   ],
   "source": [
    "tuning_results.best_params_"
   ]
  },
  {
   "cell_type": "markdown",
   "metadata": {},
   "source": [
    "#### Training the final model with the best parameters and testing the model on unseen test data"
   ]
  },
  {
   "cell_type": "markdown",
   "metadata": {},
   "source": [
    "Through hyperparameter optimization, we have got the best parameters to train our model on. So we will select the best parameters as given by Randomized Search and train our model using all of the data in the train set. After training the model, we can check the model's performance as to how well it generalizes by generating metrics on unseen test data."
   ]
  },
  {
   "cell_type": "code",
   "execution_count": 68,
   "metadata": {},
   "outputs": [
    {
     "name": "stdout",
     "output_type": "stream",
     "text": [
      "Model: \"sequential_5\"\n",
      "_________________________________________________________________\n",
      "Layer (type)                 Output Shape              Param #   \n",
      "=================================================================\n",
      "embedding_5 (Embedding)      (None, 85, 300)           1348200   \n",
      "_________________________________________________________________\n",
      "spatial_dropout1d_5 (Spatial (None, 85, 300)           0         \n",
      "_________________________________________________________________\n",
      "bidirectional_5 (Bidirection (None, 85, 256)           439296    \n",
      "_________________________________________________________________\n",
      "conv1d_5 (Conv1D)            (None, 82, 64)            65600     \n",
      "_________________________________________________________________\n",
      "global_max_pooling1d_5 (Glob (None, 64)                0         \n",
      "_________________________________________________________________\n",
      "dense_10 (Dense)             (None, 64)                4160      \n",
      "_________________________________________________________________\n",
      "dense_11 (Dense)             (None, 2)                 130       \n",
      "=================================================================\n",
      "Total params: 1,857,386\n",
      "Trainable params: 509,186\n",
      "Non-trainable params: 1,348,200\n",
      "_________________________________________________________________\n",
      "None\n",
      "Epoch 1/35\n",
      "38/38 - 9s - loss: 0.6729 - accuracy: 0.5882\n",
      "\n",
      "Epoch 00001: loss improved from inf to 0.67291, saving model to model.hdf5\n",
      "Epoch 2/35\n",
      "38/38 - 5s - loss: 0.5108 - accuracy: 0.7498\n",
      "\n",
      "Epoch 00002: loss improved from 0.67291 to 0.51083, saving model to model.hdf5\n",
      "Epoch 3/35\n",
      "38/38 - 5s - loss: 0.4552 - accuracy: 0.7931\n",
      "\n",
      "Epoch 00003: loss improved from 0.51083 to 0.45525, saving model to model.hdf5\n",
      "Epoch 4/35\n",
      "38/38 - 5s - loss: 0.4234 - accuracy: 0.7984\n",
      "\n",
      "Epoch 00004: loss improved from 0.45525 to 0.42345, saving model to model.hdf5\n",
      "Epoch 5/35\n",
      "38/38 - 5s - loss: 0.3794 - accuracy: 0.8318\n",
      "\n",
      "Epoch 00005: loss improved from 0.42345 to 0.37941, saving model to model.hdf5\n",
      "Epoch 6/35\n",
      "38/38 - 5s - loss: 0.3651 - accuracy: 0.8388\n",
      "\n",
      "Epoch 00006: loss improved from 0.37941 to 0.36511, saving model to model.hdf5\n",
      "Epoch 7/35\n",
      "38/38 - 5s - loss: 0.3227 - accuracy: 0.8557\n",
      "\n",
      "Epoch 00007: loss improved from 0.36511 to 0.32271, saving model to model.hdf5\n",
      "Epoch 8/35\n",
      "38/38 - 5s - loss: 0.3062 - accuracy: 0.8689\n",
      "\n",
      "Epoch 00008: loss improved from 0.32271 to 0.30619, saving model to model.hdf5\n",
      "Epoch 9/35\n",
      "38/38 - 5s - loss: 0.3016 - accuracy: 0.8669\n",
      "\n",
      "Epoch 00009: loss improved from 0.30619 to 0.30164, saving model to model.hdf5\n",
      "Epoch 10/35\n",
      "38/38 - 5s - loss: 0.2584 - accuracy: 0.8883\n",
      "\n",
      "Epoch 00010: loss improved from 0.30164 to 0.25843, saving model to model.hdf5\n",
      "Epoch 11/35\n",
      "38/38 - 5s - loss: 0.2524 - accuracy: 0.8974\n",
      "\n",
      "Epoch 00011: loss improved from 0.25843 to 0.25242, saving model to model.hdf5\n",
      "Epoch 12/35\n",
      "38/38 - 5s - loss: 0.2239 - accuracy: 0.9027\n",
      "\n",
      "Epoch 00012: loss improved from 0.25242 to 0.22389, saving model to model.hdf5\n",
      "Epoch 13/35\n",
      "38/38 - 5s - loss: 0.2202 - accuracy: 0.9011\n",
      "\n",
      "Epoch 00013: loss improved from 0.22389 to 0.22023, saving model to model.hdf5\n",
      "Epoch 14/35\n",
      "38/38 - 5s - loss: 0.2011 - accuracy: 0.9097\n",
      "\n",
      "Epoch 00014: loss improved from 0.22023 to 0.20110, saving model to model.hdf5\n",
      "Epoch 15/35\n",
      "38/38 - 5s - loss: 0.1764 - accuracy: 0.9336\n",
      "\n",
      "Epoch 00015: loss improved from 0.20110 to 0.17643, saving model to model.hdf5\n",
      "Epoch 16/35\n",
      "38/38 - 5s - loss: 0.1687 - accuracy: 0.9308\n",
      "\n",
      "Epoch 00016: loss improved from 0.17643 to 0.16866, saving model to model.hdf5\n",
      "Epoch 17/35\n",
      "38/38 - 5s - loss: 0.1596 - accuracy: 0.9283\n",
      "\n",
      "Epoch 00017: loss improved from 0.16866 to 0.15958, saving model to model.hdf5\n",
      "Epoch 18/35\n",
      "38/38 - 5s - loss: 0.1512 - accuracy: 0.9386\n",
      "\n",
      "Epoch 00018: loss improved from 0.15958 to 0.15119, saving model to model.hdf5\n",
      "Epoch 19/35\n",
      "38/38 - 5s - loss: 0.1318 - accuracy: 0.9472\n",
      "\n",
      "Epoch 00019: loss improved from 0.15119 to 0.13180, saving model to model.hdf5\n",
      "Epoch 20/35\n",
      "38/38 - 5s - loss: 0.1257 - accuracy: 0.9563\n",
      "\n",
      "Epoch 00020: loss improved from 0.13180 to 0.12567, saving model to model.hdf5\n",
      "Epoch 21/35\n",
      "38/38 - 5s - loss: 0.1149 - accuracy: 0.9551\n",
      "\n",
      "Epoch 00021: loss improved from 0.12567 to 0.11490, saving model to model.hdf5\n",
      "Epoch 22/35\n",
      "38/38 - 5s - loss: 0.0860 - accuracy: 0.9670\n",
      "\n",
      "Epoch 00022: loss improved from 0.11490 to 0.08597, saving model to model.hdf5\n",
      "Epoch 23/35\n",
      "38/38 - 5s - loss: 0.0885 - accuracy: 0.9703\n",
      "\n",
      "Epoch 00023: loss did not improve from 0.08597\n",
      "Epoch 24/35\n",
      "38/38 - 5s - loss: 0.0790 - accuracy: 0.9728\n",
      "\n",
      "Epoch 00024: loss improved from 0.08597 to 0.07898, saving model to model.hdf5\n",
      "Epoch 25/35\n",
      "38/38 - 5s - loss: 0.0815 - accuracy: 0.9662\n",
      "\n",
      "Epoch 00025: loss did not improve from 0.07898\n",
      "Epoch 26/35\n",
      "38/38 - 5s - loss: 0.0731 - accuracy: 0.9695\n",
      "\n",
      "Epoch 00026: loss improved from 0.07898 to 0.07314, saving model to model.hdf5\n",
      "Epoch 27/35\n",
      "38/38 - 5s - loss: 0.0809 - accuracy: 0.9695\n",
      "\n",
      "Epoch 00027: loss did not improve from 0.07314\n",
      "Epoch 28/35\n",
      "38/38 - 5s - loss: 0.0569 - accuracy: 0.9798\n",
      "\n",
      "Epoch 00028: loss improved from 0.07314 to 0.05690, saving model to model.hdf5\n",
      "Epoch 29/35\n",
      "38/38 - 5s - loss: 0.0575 - accuracy: 0.9782\n",
      "\n",
      "Epoch 00029: loss did not improve from 0.05690\n",
      "Epoch 30/35\n",
      "38/38 - 5s - loss: 0.0611 - accuracy: 0.9753\n",
      "\n",
      "Epoch 00030: loss did not improve from 0.05690\n",
      "Epoch 31/35\n",
      "38/38 - 5s - loss: 0.0532 - accuracy: 0.9810\n",
      "\n",
      "Epoch 00031: loss improved from 0.05690 to 0.05321, saving model to model.hdf5\n",
      "Epoch 32/35\n",
      "38/38 - 5s - loss: 0.0433 - accuracy: 0.9839\n",
      "\n",
      "Epoch 00032: loss improved from 0.05321 to 0.04330, saving model to model.hdf5\n",
      "Epoch 33/35\n",
      "38/38 - 5s - loss: 0.0511 - accuracy: 0.9798\n",
      "\n",
      "Epoch 00033: loss did not improve from 0.04330\n",
      "Epoch 34/35\n",
      "38/38 - 5s - loss: 0.0452 - accuracy: 0.9835\n",
      "\n",
      "Epoch 00034: loss did not improve from 0.04330\n",
      "Epoch 35/35\n",
      "38/38 - 5s - loss: 0.0397 - accuracy: 0.9847\n",
      "\n",
      "Epoch 00035: loss improved from 0.04330 to 0.03973, saving model to model.hdf5\n"
     ]
    },
    {
     "data": {
      "text/plain": [
       "<tensorflow.python.keras.callbacks.History at 0x7f49c8270050>"
      ]
     },
     "execution_count": 68,
     "metadata": {},
     "output_type": "execute_result"
    }
   ],
   "source": [
    "final_model = build_model(embed_matrix=emb_matrix, optimizer='adam', spatial_dropout=0.4, lstm_dropout=0.3, lstm_units=128)\n",
    "\n",
    "final_model.fit(X_train, y_train, epochs=35, batch_size=64, class_weight=None,\n",
    "                callbacks= [ModelCheckpoint('model.hdf5', monitor='loss', \n",
    "                                            verbose=1, save_best_only=True)], \n",
    "                verbose=2)"
   ]
  },
  {
   "cell_type": "markdown",
   "metadata": {},
   "source": [
    "We can now evaluate the trained model on the unseen test data and see how the model performs on it."
   ]
  },
  {
   "cell_type": "code",
   "execution_count": 69,
   "metadata": {},
   "outputs": [
    {
     "name": "stdout",
     "output_type": "stream",
     "text": [
      "19/19 [==============================] - 1s 16ms/step\n",
      "Test Accuracy 0.8233333333333334\n",
      "F1 Score on Test Set: 0.8233333333333334\n",
      "[[234  53]\n",
      " [ 53 260]]\n"
     ]
    }
   ],
   "source": [
    "final_model = load_model('model.hdf5')\n",
    "predictions = final_model.predict(X_test, verbose=1)\n",
    "\n",
    "print('Test Accuracy', (predictions.argmax(axis = 1) == y_test.argmax(axis = 1)).mean())\n",
    "print('F1 Score on Test Set:', f1_score(y_test.argmax(axis = 1), predictions.argmax(axis = 1), average='weighted'))\n",
    "print(confusion_matrix(y_test.argmax(axis = 1), predictions.argmax(axis = 1)))"
   ]
  },
  {
   "cell_type": "code",
   "execution_count": 87,
   "metadata": {},
   "outputs": [
    {
     "data": {
      "text/html": [
       "<div>\n",
       "<style scoped>\n",
       "    .dataframe tbody tr th:only-of-type {\n",
       "        vertical-align: middle;\n",
       "    }\n",
       "\n",
       "    .dataframe tbody tr th {\n",
       "        vertical-align: top;\n",
       "    }\n",
       "\n",
       "    .dataframe thead th {\n",
       "        text-align: right;\n",
       "    }\n",
       "</style>\n",
       "<table border=\"1\" class=\"dataframe\">\n",
       "  <thead>\n",
       "    <tr style=\"text-align: right;\">\n",
       "      <th></th>\n",
       "      <th>Sentence</th>\n",
       "      <th>Polarity-Actual</th>\n",
       "      <th>Polarity-Predicted</th>\n",
       "    </tr>\n",
       "  </thead>\n",
       "  <tbody>\n",
       "    <tr>\n",
       "      <th>0</th>\n",
       "      <td>A good commentary of today's love and undoubte...</td>\n",
       "      <td>1</td>\n",
       "      <td>1</td>\n",
       "    </tr>\n",
       "    <tr>\n",
       "      <th>1</th>\n",
       "      <td>For people who are first timers in film making...</td>\n",
       "      <td>1</td>\n",
       "      <td>1</td>\n",
       "    </tr>\n",
       "    <tr>\n",
       "      <th>2</th>\n",
       "      <td>It was very popular when I was in the cinema, ...</td>\n",
       "      <td>1</td>\n",
       "      <td>1</td>\n",
       "    </tr>\n",
       "    <tr>\n",
       "      <th>3</th>\n",
       "      <td>It's a feel-good film and that's how I felt wh...</td>\n",
       "      <td>1</td>\n",
       "      <td>1</td>\n",
       "    </tr>\n",
       "    <tr>\n",
       "      <th>4</th>\n",
       "      <td>It has northern humour and positive about the ...</td>\n",
       "      <td>1</td>\n",
       "      <td>1</td>\n",
       "    </tr>\n",
       "  </tbody>\n",
       "</table>\n",
       "</div>"
      ],
      "text/plain": [
       "                                            Sentence  Polarity-Actual  \\\n",
       "0  A good commentary of today's love and undoubte...                1   \n",
       "1  For people who are first timers in film making...                1   \n",
       "2  It was very popular when I was in the cinema, ...                1   \n",
       "3  It's a feel-good film and that's how I felt wh...                1   \n",
       "4  It has northern humour and positive about the ...                1   \n",
       "\n",
       "   Polarity-Predicted  \n",
       "0                   1  \n",
       "1                   1  \n",
       "2                   1  \n",
       "3                   1  \n",
       "4                   1  "
      ]
     },
     "execution_count": 87,
     "metadata": {},
     "output_type": "execute_result"
    }
   ],
   "source": [
    "all_preds = []\n",
    "for idx, (actual, pred) in enumerate(zip(y_test.argmax(axis = 1), predictions.argmax(axis = 1))):\n",
    "    all_preds.append({\"Sentence\" : df_test[\"Sentence\"].iloc[idx],\n",
    "                      \"Polarity-Actual\": actual,\n",
    "                      \"Polarity-Predicted\" : pred})\n",
    "df_preds = pd.DataFrame(all_preds)\n",
    "df_preds.head()"
   ]
  },
  {
   "cell_type": "code",
   "execution_count": 88,
   "metadata": {},
   "outputs": [],
   "source": [
    "df_preds.to_csv('./data/sentiment_test_preds.csv', index=False)"
   ]
  }
 ],
 "metadata": {
  "kernelspec": {
   "display_name": "alt",
   "language": "python",
   "name": "alt"
  },
  "language_info": {
   "codemirror_mode": {
    "name": "ipython",
    "version": 3
   },
   "file_extension": ".py",
   "mimetype": "text/x-python",
   "name": "python",
   "nbconvert_exporter": "python",
   "pygments_lexer": "ipython3",
   "version": "3.7.10"
  }
 },
 "nbformat": 4,
 "nbformat_minor": 2
}
